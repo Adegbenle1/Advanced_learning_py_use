{
 "cells": [
  {
   "cell_type": "code",
   "execution_count": 4,
   "id": "771f80cf",
   "metadata": {},
   "outputs": [],
   "source": [
    "import json"
   ]
  },
  {
   "cell_type": "code",
   "execution_count": 5,
   "id": "53c05b9f",
   "metadata": {},
   "outputs": [
    {
     "name": "stderr",
     "output_type": "stream",
     "text": [
      "<>:1: SyntaxWarning: invalid escape sequence '\\E'\n",
      "<>:1: SyntaxWarning: invalid escape sequence '\\E'\n",
      "C:\\Users\\adegb\\AppData\\Local\\Temp\\ipykernel_16476\\815165606.py:1: SyntaxWarning: invalid escape sequence '\\E'\n",
      "  with open(\"C:/Users/adegb/OneDrive/Desktop/Data Engr/Python_Data_Engineering/Ex_Files_Complete_Guide_Python_Data_Engineering\\Exercise Files\\Advanced_learning_py\\sample-weather-history.json\", \"r\") as weatherfile:\n"
     ]
    }
   ],
   "source": [
    "with open(\"C:/Users/adegb/OneDrive/Desktop/Data Engr/Python_Data_Engineering/Ex_Files_Complete_Guide_Python_Data_Engineering\\Exercise Files\\Advanced_learning_py\\sample-weather-history.json\", \"r\") as weatherfile:\n",
    "    weatherdata = json.load(weatherfile)"
   ]
  },
  {
   "cell_type": "code",
   "execution_count": 6,
   "id": "56231162",
   "metadata": {},
   "outputs": [
    {
     "name": "stdout",
     "output_type": "stream",
     "text": [
      "1977\n"
     ]
    }
   ],
   "source": [
    "print(len(weatherdata))"
   ]
  },
  {
   "cell_type": "code",
   "execution_count": 7,
   "id": "2390a08f",
   "metadata": {},
   "outputs": [
    {
     "name": "stdout",
     "output_type": "stream",
     "text": [
      "{'date': '2017-01-08', 'tmin': 15, 'tmax': 27, 'prcp': 0.0, 'snow': 0.0, 'snwd': 1.2, 'awnd': 4.92}\n"
     ]
    }
   ],
   "source": [
    "#index to check the data:\n",
    "print(weatherdata[1])"
   ]
  },
  {
   "cell_type": "code",
   "execution_count": null,
   "id": "09d498aa",
   "metadata": {},
   "outputs": [],
   "source": []
  }
 ],
 "metadata": {
  "kernelspec": {
   "display_name": "Python 3",
   "language": "python",
   "name": "python3"
  },
  "language_info": {
   "codemirror_mode": {
    "name": "ipython",
    "version": 3
   },
   "file_extension": ".py",
   "mimetype": "text/x-python",
   "name": "python",
   "nbconvert_exporter": "python",
   "pygments_lexer": "ipython3",
   "version": "3.13.2"
  }
 },
 "nbformat": 4,
 "nbformat_minor": 5
}
